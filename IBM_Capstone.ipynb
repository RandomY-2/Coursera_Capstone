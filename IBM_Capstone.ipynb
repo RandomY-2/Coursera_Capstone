{
  "nbformat": 4,
  "nbformat_minor": 0,
  "metadata": {
    "colab": {
      "name": "IBM_Capstone.ipynb",
      "provenance": [],
      "collapsed_sections": []
    },
    "kernelspec": {
      "name": "python3",
      "display_name": "Python 3"
    }
  },
  "cells": [
    {
      "cell_type": "markdown",
      "metadata": {
        "id": "6LGWPfGjiu0M"
      },
      "source": [
        "# Introduction\r\n",
        "\r\n",
        "In this notebook, I will create a city segmentation/clustering data analysis project for IBM Data Science's capstone project. "
      ]
    },
    {
      "cell_type": "code",
      "metadata": {
        "id": "7_d05Mphi9_9"
      },
      "source": [
        "import pandas as pd\r\n",
        "import numpy as np\r\n",
        "\r\n",
        "print('Hello Capstone Project Course!')"
      ],
      "execution_count": null,
      "outputs": []
    }
  ]
}